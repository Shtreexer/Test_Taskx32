{
 "cells": [
  {
   "cell_type": "code",
   "execution_count": 11,
   "metadata": {},
   "outputs": [],
   "source": [
    "import tensorflow as tf\n",
    "from transformers import TFAutoModelForTokenClassification, RobertaTokenizerFast"
   ]
  },
  {
   "cell_type": "markdown",
   "metadata": {},
   "source": [
    "## Tokenizer&Model"
   ]
  },
  {
   "cell_type": "code",
   "execution_count": 18,
   "metadata": {},
   "outputs": [
    {
     "name": "stderr",
     "output_type": "stream",
     "text": [
      "Some layers from the model checkpoint at NER_Model were not used when initializing TFRobertaForTokenClassification: ['dropout_37']\n",
      "- This IS expected if you are initializing TFRobertaForTokenClassification from the checkpoint of a model trained on another task or with another architecture (e.g. initializing a BertForSequenceClassification model from a BertForPreTraining model).\n",
      "- This IS NOT expected if you are initializing TFRobertaForTokenClassification from the checkpoint of a model that you expect to be exactly identical (initializing a BertForSequenceClassification model from a BertForSequenceClassification model).\n",
      "All the layers of TFRobertaForTokenClassification were initialized from the model checkpoint at NER_Model.\n",
      "If your task is similar to the task the model of the checkpoint was trained on, you can already use TFRobertaForTokenClassification for predictions without further training.\n"
     ]
    }
   ],
   "source": [
    "model_id = 'roberta-base'\n",
    "\n",
    "ner_model = TFAutoModelForTokenClassification.from_pretrained('NER_Model', num_labels = 9)\n",
    "tokenizer = RobertaTokenizerFast.from_pretrained(model_id, add_prefix_space=True)"
   ]
  },
  {
   "cell_type": "code",
   "execution_count": 26,
   "metadata": {},
   "outputs": [],
   "source": [
    "inputs= tokenizer([\"I visited Paris last summer and bought a new watch from Rolex.\"], padding=True,return_tensors=\"tf\")\n",
    "logits = ner_model(**inputs).logits"
   ]
  },
  {
   "cell_type": "code",
   "execution_count": 27,
   "metadata": {},
   "outputs": [],
   "source": [
    "ind_to_label={0:'O', 1:'B-PER',2:'I-PER',3:'B-ORG',4:'I-ORG',5:'B-LOC',6:'I-LOC',7:'B-MISC',8:'I-MISC'}\n",
    "out_str=\"\"\n",
    "current_index=0"
   ]
  },
  {
   "cell_type": "code",
   "execution_count": 28,
   "metadata": {},
   "outputs": [],
   "source": [
    "for i in range(1,len(inputs.tokens())-1):\n",
    "  if tf.argmax(logits,axis= -1)[0][i]!=0:\n",
    "    out_str+=\" \" + str(inputs.tokens()[i]) + \"[\"+str(ind_to_label[tf.argmax(logits,axis= -1).numpy()[0][i]])+']'\n",
    "  else:\n",
    "    out_str+=\" \" +str (inputs.tokens()[i])"
   ]
  },
  {
   "cell_type": "code",
   "execution_count": 29,
   "metadata": {},
   "outputs": [
    {
     "name": "stdout",
     "output_type": "stream",
     "text": [
      " I visited Paris[B-LOC] last summer and bought a new watch from Role[B-ORG] x[I-ORG] .\n"
     ]
    }
   ],
   "source": [
    "print(out_str.replace(\"Ġ\",\"\"))"
   ]
  },
  {
   "cell_type": "code",
   "execution_count": null,
   "metadata": {},
   "outputs": [],
   "source": []
  }
 ],
 "metadata": {
  "kernelspec": {
   "display_name": "Nearal_Workspace",
   "language": "python",
   "name": "python3"
  },
  "language_info": {
   "codemirror_mode": {
    "name": "ipython",
    "version": 3
   },
   "file_extension": ".py",
   "mimetype": "text/x-python",
   "name": "python",
   "nbconvert_exporter": "python",
   "pygments_lexer": "ipython3",
   "version": "3.11.10"
  }
 },
 "nbformat": 4,
 "nbformat_minor": 2
}
